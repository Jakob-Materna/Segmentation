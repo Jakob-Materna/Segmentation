{
 "cells": [
  {
   "cell_type": "code",
   "execution_count": 52,
   "id": "f193dd3a-36bc-4243-9697-665c15ff7a9c",
   "metadata": {},
   "outputs": [],
   "source": [
    "import yaml\n",
    "import sys\n",
    "import os\n",
    "import seaborn as sns\n",
    "from pathlib import Path"
   ]
  },
  {
   "cell_type": "code",
   "execution_count": 69,
   "id": "2dc03612-2ea0-4487-b3aa-2c8597eed6b5",
   "metadata": {},
   "outputs": [
    {
     "name": "stdout",
     "output_type": "stream",
     "text": [
      "Warning: Output directory already exists. Files might get overwritten.\n",
      "/home/wsl/bin/segment-anything/checkpoints/sam_vit_h_4b8939.pth\n",
      "vit_h\n",
      "\n",
      " {'FWL': {'display_name': 'forewing lobe', 'color': (0.86, 0.3712, 0.33999999999999997), 'mask': None, 'wing_area': None, 'wing_height': None, 'cell_area': None, 'cell_perimeter': None}, 'MC': {'display_name': 'marginal cell', 'color': (0.86, 0.6832, 0.33999999999999997), 'mask': None, 'wing_area': None, 'wing_height': None, 'cell_area': None, 'cell_perimeter': None}, '1sMC': {'display_name': '1st submarginal cell', 'color': (0.7247999999999999, 0.86, 0.33999999999999997), 'mask': None, 'wing_area': None, 'wing_height': None, 'cell_area': None, 'cell_perimeter': None}, '2sMC': {'display_name': '2nd submarginal cell', 'color': (0.41279999999999994, 0.86, 0.33999999999999997), 'mask': None, 'wing_area': None, 'wing_height': None, 'cell_area': None, 'cell_perimeter': None}, '3sMC': {'display_name': '3rd submarginal cell', 'color': (0.33999999999999997, 0.86, 0.5792000000000002), 'mask': None, 'wing_area': None, 'wing_height': None, 'cell_area': None, 'cell_perimeter': None}, '1MdC': {'display_name': '1st medial cell', 'color': (0.33999999999999997, 0.8287999999999999, 0.86), 'mask': None, 'wing_area': None, 'wing_height': None, 'cell_area': None, 'cell_perimeter': None}, '2MdC': {'display_name': '2nd medial cell', 'color': (0.33999999999999997, 0.5167999999999995, 0.86), 'mask': None, 'wing_area': None, 'wing_height': None, 'cell_area': None, 'cell_perimeter': None}, '1CC': {'display_name': '1st cubital cell', 'color': (0.4752000000000003, 0.33999999999999997, 0.86), 'mask': None, 'wing_area': None, 'wing_height': None, 'cell_area': None, 'cell_perimeter': None}, '2CC': {'display_name': '2nd cubital cell', 'color': (0.7871999999999999, 0.33999999999999997, 0.86), 'mask': None, 'wing_area': None, 'wing_height': None, 'cell_area': None, 'cell_perimeter': None}, 'RC': {'display_name': 'radial cell', 'color': (0.86, 0.33999999999999997, 0.6207999999999999), 'mask': None, 'wing_area': None, 'wing_height': None, 'cell_area': None, 'cell_perimeter': None}}\n"
     ]
    }
   ],
   "source": [
    "MODELS = {\n",
    "    \"sam_vit_h_4b8939.pth\": \"vit_h\",\n",
    "    \"sam_vit_l_0b3195.pth\": \"vit_l\",\n",
    "    \"sam_vit_b_01ec64.pth\": \"vit_b\"\n",
    "}\n",
    "\n",
    "def parse_config(file_path):\n",
    "    try:\n",
    "        # Resolve the absolute path of the config file\n",
    "        config_path = Path(file_path).resolve()\n",
    "        if not config_path.is_file():\n",
    "            print(f\"Error: Config file not found at '{config_path}'.\")\n",
    "            sys.exit()\n",
    "        \n",
    "        # Load the config file\n",
    "        with config_path.open(\"r\") as file:\n",
    "            data = yaml.safe_load(file)\n",
    "\n",
    "        # Check if config file is not empty\n",
    "        if data is None:\n",
    "            print(f\"Error: Config file is empty.\")\n",
    "            sys.exit()\n",
    "            \n",
    "        # Validate required keys\n",
    "        required_keys = [\"checkpoint\", \"output-directory\", \"wing-cells\"]\n",
    "        missing_keys = [key for key in required_keys if key not in data]\n",
    "        if missing_keys:\n",
    "            print(f\"Error: Missing required keys in config: {', '.join(missing_keys)}\")\n",
    "            sys.exit()\n",
    "\n",
    "        # Resolve the absolute path for the output directory\n",
    "        output_path = Path(data[\"output-directory\"]).resolve()\n",
    "        if not os.path.isdir(output_path):\n",
    "            os.makedirs(output_path)\n",
    "        else:\n",
    "            print(f\"Warning: Output directory already exists. Files might get overwritten.\")\n",
    "            \n",
    "        # Resolve the absolute path for the checkpoint and identify the checkpoint\n",
    "        checkpoint_path = Path(data[\"checkpoint\"]).resolve()\n",
    "        if not checkpoint_path.is_file():\n",
    "            print(f\"Error: Checkpoint file not found at '{checkpoint_path}'.\")\n",
    "            sys.exit()\n",
    "        checkpoint_name = os.path.basename(checkpoint_path)\n",
    "        if checkpoint_name in MODELS.keys():\n",
    "            model_type = MODELS[checkpoint_name]\n",
    "        else:\n",
    "            print(f\"Error: The checkpoint is not supported. Supported checkpoints: {', '.join(MODELS.keys())}\")\n",
    "\n",
    "        # Load wing cell data\n",
    "        wing_cells = data[\"wing-cells\"]\n",
    "        sns_colors = sns.color_palette(\"hls\", len(wing_cells))\n",
    "        # Transform dictionary\n",
    "        wing_segments = {}\n",
    "        for i, (cell_id, display_name) in enumerate(wing_cells.items()):\n",
    "            wing_segments[cell_id] = {\n",
    "                \"display_name\": display_name,\n",
    "                \"color\": sns_colors[i],\n",
    "                \"mask\": None,\n",
    "                \"wing_area\": None,\n",
    "                \"wing_height\": None,\n",
    "                \"cell_area\": None,\n",
    "                \"cell_perimeter\": None\n",
    "            }\n",
    "    \n",
    "        return checkpoint_path, model_type, wing_segments\n",
    "\n",
    "    except yaml.YAMLError as e:\n",
    "        print(f\"Error parsing config file: {e}\")\n",
    "        sys.exit()\n",
    "    except Exception as e:\n",
    "        print(f\"An unexpected error occurred: {e}\")\n",
    "        sys.exit()\n",
    "\n",
    "\n",
    "if __name__ == \"__main__\":\n",
    "    file_path = \"config.yaml\"  \n",
    "    checkpoint_path, model_type, wing_segments = parse_config(file_path)\n",
    "    print(checkpoint_path)\n",
    "    print(model_type)\n",
    "    print(\"\\n\", wing_segments)"
   ]
  },
  {
   "cell_type": "code",
   "execution_count": 39,
   "id": "69b16e92-6a48-4a4f-893b-0210e1824c81",
   "metadata": {},
   "outputs": [
    {
     "data": {
      "text/html": [
       "<svg  width=\"550\" height=\"55\"><rect x=\"0\" y=\"0\" width=\"55\" height=\"55\" style=\"fill:#db5f57;stroke-width:2;stroke:rgb(255,255,255)\"/><rect x=\"55\" y=\"0\" width=\"55\" height=\"55\" style=\"fill:#dbae57;stroke-width:2;stroke:rgb(255,255,255)\"/><rect x=\"110\" y=\"0\" width=\"55\" height=\"55\" style=\"fill:#b9db57;stroke-width:2;stroke:rgb(255,255,255)\"/><rect x=\"165\" y=\"0\" width=\"55\" height=\"55\" style=\"fill:#69db57;stroke-width:2;stroke:rgb(255,255,255)\"/><rect x=\"220\" y=\"0\" width=\"55\" height=\"55\" style=\"fill:#57db94;stroke-width:2;stroke:rgb(255,255,255)\"/><rect x=\"275\" y=\"0\" width=\"55\" height=\"55\" style=\"fill:#57d3db;stroke-width:2;stroke:rgb(255,255,255)\"/><rect x=\"330\" y=\"0\" width=\"55\" height=\"55\" style=\"fill:#5784db;stroke-width:2;stroke:rgb(255,255,255)\"/><rect x=\"385\" y=\"0\" width=\"55\" height=\"55\" style=\"fill:#7957db;stroke-width:2;stroke:rgb(255,255,255)\"/><rect x=\"440\" y=\"0\" width=\"55\" height=\"55\" style=\"fill:#c957db;stroke-width:2;stroke:rgb(255,255,255)\"/><rect x=\"495\" y=\"0\" width=\"55\" height=\"55\" style=\"fill:#db579e;stroke-width:2;stroke:rgb(255,255,255)\"/></svg>"
      ],
      "text/plain": [
       "[(0.86, 0.3712, 0.33999999999999997),\n",
       " (0.86, 0.6832, 0.33999999999999997),\n",
       " (0.7247999999999999, 0.86, 0.33999999999999997),\n",
       " (0.41279999999999994, 0.86, 0.33999999999999997),\n",
       " (0.33999999999999997, 0.86, 0.5792000000000002),\n",
       " (0.33999999999999997, 0.8287999999999999, 0.86),\n",
       " (0.33999999999999997, 0.5167999999999995, 0.86),\n",
       " (0.4752000000000003, 0.33999999999999997, 0.86),\n",
       " (0.7871999999999999, 0.33999999999999997, 0.86),\n",
       " (0.86, 0.33999999999999997, 0.6207999999999999)]"
      ]
     },
     "execution_count": 39,
     "metadata": {},
     "output_type": "execute_result"
    }
   ],
   "source": [
    "sns_colors = sns.color_palette(\"hls\", 10)\n",
    "sns_colors"
   ]
  },
  {
   "cell_type": "code",
   "execution_count": null,
   "id": "a1595654-e401-4b60-b5f1-9a461d0eae11",
   "metadata": {},
   "outputs": [],
   "source": []
  }
 ],
 "metadata": {
  "kernelspec": {
   "display_name": "Python 3 (ipykernel)",
   "language": "python",
   "name": "python3"
  },
  "language_info": {
   "codemirror_mode": {
    "name": "ipython",
    "version": 3
   },
   "file_extension": ".py",
   "mimetype": "text/x-python",
   "name": "python",
   "nbconvert_exporter": "python",
   "pygments_lexer": "ipython3",
   "version": "3.11.6"
  }
 },
 "nbformat": 4,
 "nbformat_minor": 5
}
