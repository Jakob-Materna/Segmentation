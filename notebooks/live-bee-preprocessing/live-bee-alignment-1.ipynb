{
 "cells": [
  {
   "cell_type": "code",
   "execution_count": 5,
   "id": "e1af288d-2c17-417e-b573-d028b9e6936a",
   "metadata": {},
   "outputs": [],
   "source": [
    "import matplotlib.pyplot as plt\n",
    "import numpy as np\n",
    "import torch\n",
    "import sys\n",
    "import glob\n",
    "import os\n",
    "import cv2\n",
    "import time\n",
    "\n",
    "from PIL import Image\n",
    "\n",
    "from scipy.spatial import cKDTree\n",
    "from scipy.ndimage import binary_fill_holes"
   ]
  },
  {
   "cell_type": "code",
   "execution_count": 6,
   "id": "5a8f9e1b-25ca-45c4-a486-6a29cc39c9c3",
   "metadata": {},
   "outputs": [
    {
     "name": "stdout",
     "output_type": "stream",
     "text": [
      "using device: cuda\n"
     ]
    }
   ],
   "source": [
    "# select the device for computation\n",
    "if torch.cuda.is_available():\n",
    "    device = torch.device(\"cuda\")\n",
    "elif torch.backends.mps.is_available():\n",
    "    device = torch.device(\"mps\")\n",
    "else:\n",
    "    device = torch.device(\"cpu\")\n",
    "print(f\"using device: {device}\")"
   ]
  },
  {
   "cell_type": "code",
   "execution_count": 7,
   "id": "54bf8499-a043-4877-98cd-7607ed101288",
   "metadata": {},
   "outputs": [],
   "source": [
    "def find_black_area(image, window_size):\n",
    "    h, w = image.shape\n",
    "    max_density = -1\n",
    "    best_coords = (0, 0)\n",
    "\n",
    "    # Slide the window over the image\n",
    "    for y in range(0, h - window_size[1] + 1, 1):\n",
    "        for x in range(0, w - window_size[0] + 1, 1):\n",
    "            # Extract the window from the image\n",
    "            window = image[y:y + window_size[1], x:x + window_size[0]]\n",
    "\n",
    "            # Count the number of black pixels\n",
    "            black_pixel_count = np.sum(window <= 30)\n",
    "\n",
    "            # Track the window with the maximum number of black pixels\n",
    "            if black_pixel_count > max_density:\n",
    "                max_density = black_pixel_count\n",
    "                best_coords = (x, y)\n",
    "\n",
    "    return best_coords, max_density"
   ]
  },
  {
   "cell_type": "code",
   "execution_count": 9,
   "id": "37db377b-fbd7-46be-a08e-c4c6d4ec7bba",
   "metadata": {},
   "outputs": [
    {
     "name": "stdout",
     "output_type": "stream",
     "text": [
      "Processing file 0001/1147:\tRound01-Hive01-2024_06_05-h01bee01.JPG\n"
     ]
    },
    {
     "ename": "KeyboardInterrupt",
     "evalue": "",
     "output_type": "error",
     "traceback": [
      "\u001b[0;31m---------------------------------------------------------------------------\u001b[0m",
      "\u001b[0;31mKeyboardInterrupt\u001b[0m                         Traceback (most recent call last)",
      "Cell \u001b[0;32mIn[9], line 25\u001b[0m\n\u001b[1;32m     22\u001b[0m blurred_image \u001b[38;5;241m=\u001b[39m cv2\u001b[38;5;241m.\u001b[39mGaussianBlur(gray, (\u001b[38;5;241m5\u001b[39m, \u001b[38;5;241m5\u001b[39m), \u001b[38;5;241m0\u001b[39m)\n\u001b[1;32m     24\u001b[0m window_size \u001b[38;5;241m=\u001b[39m (\u001b[38;5;241m20\u001b[39m, \u001b[38;5;241m20\u001b[39m)\n\u001b[0;32m---> 25\u001b[0m best_coords, max_density \u001b[38;5;241m=\u001b[39m \u001b[43mfind_black_area\u001b[49m\u001b[43m(\u001b[49m\u001b[43mblurred_image\u001b[49m\u001b[43m,\u001b[49m\u001b[43m \u001b[49m\u001b[43mwindow_size\u001b[49m\u001b[43m)\u001b[49m\n\u001b[1;32m     27\u001b[0m \u001b[38;5;28mprint\u001b[39m(max_density)\n\u001b[1;32m     29\u001b[0m \u001b[38;5;66;03m# Plot the contour and the selected points\u001b[39;00m\n",
      "Cell \u001b[0;32mIn[7], line 13\u001b[0m, in \u001b[0;36mfind_black_area\u001b[0;34m(image, window_size)\u001b[0m\n\u001b[1;32m     10\u001b[0m window \u001b[38;5;241m=\u001b[39m image[y:y \u001b[38;5;241m+\u001b[39m window_size[\u001b[38;5;241m1\u001b[39m], x:x \u001b[38;5;241m+\u001b[39m window_size[\u001b[38;5;241m0\u001b[39m]]\n\u001b[1;32m     12\u001b[0m \u001b[38;5;66;03m# Count the number of black pixels\u001b[39;00m\n\u001b[0;32m---> 13\u001b[0m black_pixel_count \u001b[38;5;241m=\u001b[39m \u001b[43mnp\u001b[49m\u001b[38;5;241;43m.\u001b[39;49m\u001b[43msum\u001b[49m\u001b[43m(\u001b[49m\u001b[43mwindow\u001b[49m\u001b[43m \u001b[49m\u001b[38;5;241;43m<\u001b[39;49m\u001b[38;5;241;43m=\u001b[39;49m\u001b[43m \u001b[49m\u001b[38;5;241;43m30\u001b[39;49m\u001b[43m)\u001b[49m\n\u001b[1;32m     15\u001b[0m \u001b[38;5;66;03m# Track the window with the maximum number of black pixels\u001b[39;00m\n\u001b[1;32m     16\u001b[0m \u001b[38;5;28;01mif\u001b[39;00m black_pixel_count \u001b[38;5;241m>\u001b[39m max_density:\n",
      "File \u001b[0;32m~/bin/anaconda3/envs/sam-2/lib/python3.12/site-packages/numpy/core/fromnumeric.py:2313\u001b[0m, in \u001b[0;36msum\u001b[0;34m(a, axis, dtype, out, keepdims, initial, where)\u001b[0m\n\u001b[1;32m   2310\u001b[0m         \u001b[38;5;28;01mreturn\u001b[39;00m out\n\u001b[1;32m   2311\u001b[0m     \u001b[38;5;28;01mreturn\u001b[39;00m res\n\u001b[0;32m-> 2313\u001b[0m \u001b[38;5;28;01mreturn\u001b[39;00m \u001b[43m_wrapreduction\u001b[49m\u001b[43m(\u001b[49m\u001b[43ma\u001b[49m\u001b[43m,\u001b[49m\u001b[43m \u001b[49m\u001b[43mnp\u001b[49m\u001b[38;5;241;43m.\u001b[39;49m\u001b[43madd\u001b[49m\u001b[43m,\u001b[49m\u001b[43m \u001b[49m\u001b[38;5;124;43m'\u001b[39;49m\u001b[38;5;124;43msum\u001b[39;49m\u001b[38;5;124;43m'\u001b[39;49m\u001b[43m,\u001b[49m\u001b[43m \u001b[49m\u001b[43maxis\u001b[49m\u001b[43m,\u001b[49m\u001b[43m \u001b[49m\u001b[43mdtype\u001b[49m\u001b[43m,\u001b[49m\u001b[43m \u001b[49m\u001b[43mout\u001b[49m\u001b[43m,\u001b[49m\u001b[43m \u001b[49m\u001b[43mkeepdims\u001b[49m\u001b[38;5;241;43m=\u001b[39;49m\u001b[43mkeepdims\u001b[49m\u001b[43m,\u001b[49m\n\u001b[1;32m   2314\u001b[0m \u001b[43m                      \u001b[49m\u001b[43minitial\u001b[49m\u001b[38;5;241;43m=\u001b[39;49m\u001b[43minitial\u001b[49m\u001b[43m,\u001b[49m\u001b[43m \u001b[49m\u001b[43mwhere\u001b[49m\u001b[38;5;241;43m=\u001b[39;49m\u001b[43mwhere\u001b[49m\u001b[43m)\u001b[49m\n",
      "File \u001b[0;32m~/bin/anaconda3/envs/sam-2/lib/python3.12/site-packages/numpy/core/fromnumeric.py:88\u001b[0m, in \u001b[0;36m_wrapreduction\u001b[0;34m(obj, ufunc, method, axis, dtype, out, **kwargs)\u001b[0m\n\u001b[1;32m     85\u001b[0m         \u001b[38;5;28;01melse\u001b[39;00m:\n\u001b[1;32m     86\u001b[0m             \u001b[38;5;28;01mreturn\u001b[39;00m reduction(axis\u001b[38;5;241m=\u001b[39maxis, out\u001b[38;5;241m=\u001b[39mout, \u001b[38;5;241m*\u001b[39m\u001b[38;5;241m*\u001b[39mpasskwargs)\n\u001b[0;32m---> 88\u001b[0m \u001b[38;5;28;01mreturn\u001b[39;00m \u001b[43mufunc\u001b[49m\u001b[38;5;241;43m.\u001b[39;49m\u001b[43mreduce\u001b[49m\u001b[43m(\u001b[49m\u001b[43mobj\u001b[49m\u001b[43m,\u001b[49m\u001b[43m \u001b[49m\u001b[43maxis\u001b[49m\u001b[43m,\u001b[49m\u001b[43m \u001b[49m\u001b[43mdtype\u001b[49m\u001b[43m,\u001b[49m\u001b[43m \u001b[49m\u001b[43mout\u001b[49m\u001b[43m,\u001b[49m\u001b[43m \u001b[49m\u001b[38;5;241;43m*\u001b[39;49m\u001b[38;5;241;43m*\u001b[39;49m\u001b[43mpasskwargs\u001b[49m\u001b[43m)\u001b[49m\n",
      "\u001b[0;31mKeyboardInterrupt\u001b[0m: "
     ]
    }
   ],
   "source": [
    "input_dir = \"/mnt/c/Projects/Master/Data/Processed/2-LiveWingWingCropsImproved/\"\n",
    "\n",
    "# Find all jpg files\n",
    "jpg_files = []\n",
    "for root, _, files in os.walk(input_dir):\n",
    "    for file in files:\n",
    "        if file.endswith(\".JPG\") or file.endswith(\".jpg\"):\n",
    "            jpg_files.append(os.path.join(root, file))\n",
    "\n",
    "# Process every file\n",
    "total_files = len(jpg_files)\n",
    "digits = len(str(total_files))\n",
    "for idx, jpg_file_path in enumerate(jpg_files, 1):\n",
    "    jpg_basename = os.path.basename(jpg_file_path)\n",
    "    relative_jpg_path = jpg_file_path.removeprefix(input_dir)\n",
    "    print(f\"Processing file {idx:0{digits}}/{total_files}:\\t{relative_jpg_path}\")\n",
    "    \n",
    "    # Process image\n",
    "    image = cv2.imread(jpg_file_path)\n",
    "    image = cv2.cvtColor(image, cv2.COLOR_BGR2RGB)\n",
    "    gray = cv2.cvtColor(image, cv2.COLOR_BGR2GRAY)\n",
    "    blurred_image = cv2.GaussianBlur(gray, (5, 5), 0)\n",
    "    \n",
    "    window_size = (20, 20)\n",
    "    best_coords, max_density = find_black_area(blurred_image, window_size)\n",
    "\n",
    "    print(max_density)\n",
    "    \n",
    "    # Plot the contour and the selected points\n",
    "    plt.figure(figsize=(5, 5))\n",
    "    plt.imshow(blurred_image, cmap=\"gray\")\n",
    "    plt.scatter(best_coords[0], best_coords[1], c=\"green\", s=10)\n",
    "    plt.axis(\"on\")\n",
    "    plt.show()\n"
   ]
  },
  {
   "cell_type": "code",
   "execution_count": null,
   "id": "538316d7-9cd3-435d-b295-522119a2ebe6",
   "metadata": {},
   "outputs": [],
   "source": []
  }
 ],
 "metadata": {
  "kernelspec": {
   "display_name": "Python 3 (ipykernel)",
   "language": "python",
   "name": "python3"
  },
  "language_info": {
   "codemirror_mode": {
    "name": "ipython",
    "version": 3
   },
   "file_extension": ".py",
   "mimetype": "text/x-python",
   "name": "python",
   "nbconvert_exporter": "python",
   "pygments_lexer": "ipython3",
   "version": "3.12.3"
  }
 },
 "nbformat": 4,
 "nbformat_minor": 5
}
