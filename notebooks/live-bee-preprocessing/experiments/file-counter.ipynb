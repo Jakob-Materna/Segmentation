{
 "cells": [
  {
   "cell_type": "code",
   "execution_count": 7,
   "id": "c6dbe5bc-c2b1-4dbd-b0fc-78b43136163b",
   "metadata": {},
   "outputs": [],
   "source": [
    "import os\n",
    "\n",
    "def count_files(input_dir):\n",
    "    jpg_files = []\n",
    "    for root, _, files in os.walk(input_dir):\n",
    "        for file in files:\n",
    "            if file.endswith(\".JPG\") or file.endswith(\".jpg\"):\n",
    "                jpg_files.append(os.path.join(root, file))\n",
    "    \n",
    "    return len(jpg_files)"
   ]
  },
  {
   "cell_type": "code",
   "execution_count": 9,
   "id": "7cffc542-76d9-448c-b78d-618fd226c445",
   "metadata": {},
   "outputs": [
    {
     "name": "stdout",
     "output_type": "stream",
     "text": [
      "All Live Bees: 1194\n",
      "All Cropped Labels: 782\n",
      "All Wing Images: 775\n"
     ]
    }
   ],
   "source": [
    "input_dir = \"/mnt/c/Projects/Master/Data/WingImages/LiveBees/\"\n",
    "print(f\"All Live Bees: {count_files(input_dir)}\")\n",
    "\n",
    "input_dir = \"/mnt/c/Projects/Master/Data/Testdata/LiveWingLabelCrops/Labels/\"\n",
    "print(f\"All Cropped Labels: {count_files(input_dir)}\")\n",
    "\n",
    "input_dir = \"/mnt/c/Projects/Master/Data/Testdata/LiveWingWingCrops/Wings/\"\n",
    "print(f\"All Wing Images: {count_files(input_dir)}\")"
   ]
  },
  {
   "cell_type": "code",
   "execution_count": null,
   "id": "984aed03-0ee1-45ae-9ca1-cec3f00730a1",
   "metadata": {},
   "outputs": [],
   "source": []
  }
 ],
 "metadata": {
  "kernelspec": {
   "display_name": "Python 3 (ipykernel)",
   "language": "python",
   "name": "python3"
  },
  "language_info": {
   "codemirror_mode": {
    "name": "ipython",
    "version": 3
   },
   "file_extension": ".py",
   "mimetype": "text/x-python",
   "name": "python",
   "nbconvert_exporter": "python",
   "pygments_lexer": "ipython3",
   "version": "3.12.3"
  }
 },
 "nbformat": 4,
 "nbformat_minor": 5
}
