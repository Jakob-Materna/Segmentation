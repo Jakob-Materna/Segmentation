{
 "cells": [
  {
   "cell_type": "code",
   "execution_count": 1,
   "id": "423419b1-97ce-4d71-b92b-3c4ae40ed410",
   "metadata": {},
   "outputs": [
    {
     "name": "stdout",
     "output_type": "stream",
     "text": [
      "Rotated and saved: /mnt/c/Projects/Master/Temporary/14-11-2024/4-LiveWingWingsImproved/h21b01.JPG\n",
      "Rotated and saved: /mnt/c/Projects/Master/Temporary/14-11-2024/4-LiveWingWingsImproved/h21b02.JPG\n",
      "Rotated and saved: /mnt/c/Projects/Master/Temporary/14-11-2024/4-LiveWingWingsImproved/h21b03.JPG\n",
      "Rotated and saved: /mnt/c/Projects/Master/Temporary/14-11-2024/4-LiveWingWingsImproved/h21b04.JPG\n",
      "Rotated and saved: /mnt/c/Projects/Master/Temporary/14-11-2024/4-LiveWingWingsImproved/h21b05.JPG\n",
      "Rotated and saved: /mnt/c/Projects/Master/Temporary/14-11-2024/4-LiveWingWingsImproved/h21b10.JPG\n",
      "Rotated and saved: /mnt/c/Projects/Master/Temporary/14-11-2024/4-LiveWingWingsImproved/h21b11.JPG\n",
      "Rotated and saved: /mnt/c/Projects/Master/Temporary/14-11-2024/4-LiveWingWingsImproved/h21b12.JPG\n",
      "Rotated and saved: /mnt/c/Projects/Master/Temporary/14-11-2024/4-LiveWingWingsImproved/h21b13.JPG\n",
      "Rotated and saved: /mnt/c/Projects/Master/Temporary/14-11-2024/4-LiveWingWingsImproved/h21b15.JPG\n",
      "Rotated and saved: /mnt/c/Projects/Master/Temporary/14-11-2024/4-LiveWingWingsImproved/h21b16.JPG\n",
      "Rotated and saved: /mnt/c/Projects/Master/Temporary/14-11-2024/4-LiveWingWingsImproved/h21b17.JPG\n",
      "Rotated and saved: /mnt/c/Projects/Master/Temporary/14-11-2024/4-LiveWingWingsImproved/h21b19.JPG\n",
      "Rotated and saved: /mnt/c/Projects/Master/Temporary/14-11-2024/4-LiveWingWingsImproved/h21b20.JPG\n",
      "Rotated and saved: /mnt/c/Projects/Master/Temporary/14-11-2024/4-LiveWingWingsImproved/h21b21.JPG\n",
      "Rotated and saved: /mnt/c/Projects/Master/Temporary/14-11-2024/4-LiveWingWingsImproved/h21b22.JPG\n"
     ]
    }
   ],
   "source": [
    "from PIL import Image\n",
    "import os\n",
    "\n",
    "def rotate_images(input_folder, output_folder):\n",
    "    # Create the output folder if it doesn't exist\n",
    "    os.makedirs(output_folder, exist_ok=True)\n",
    "    \n",
    "    # Process each image in the input folder\n",
    "    for filename in os.listdir(input_folder):\n",
    "        if filename.lower().endswith((\"jpg\", \"JPG\")):\n",
    "            input_path = os.path.join(input_folder, filename)\n",
    "            output_path = os.path.join(output_folder, filename)\n",
    "            \n",
    "            # Open the image and rotate it\n",
    "            with Image.open(input_path) as img:\n",
    "                rotated_img = img.rotate(180)\n",
    "                rotated_img.save(output_path)\n",
    "                print(f\"Rotated and saved: {output_path}\")\n",
    "\n",
    "# Usage\n",
    "# input_folder = \"/mnt/c/Projects/Master/Data/Processed/2-LiveWingWingCrops/Wings/\"\n",
    "# output_folder = \"/mnt/c/Projects/Master/Data/Processed/2-LiveWingWingCropsImproved/\"\n",
    "\n",
    "# Usage\n",
    "input_folder = \"/mnt/c/Projects/Master/Temporary/14-11-2024/3-LiveWingWings/Wings/\"\n",
    "output_folder = \"/mnt/c/Projects/Master/Temporary/14-11-2024/4-LiveWingWingsImproved/\"\n",
    "\n",
    "rotate_images(input_folder, output_folder)"
   ]
  },
  {
   "cell_type": "code",
   "execution_count": null,
   "id": "10bc9810-3ef1-4176-a483-8a8dab1658b9",
   "metadata": {},
   "outputs": [],
   "source": []
  }
 ],
 "metadata": {
  "kernelspec": {
   "display_name": "Python 3 (ipykernel)",
   "language": "python",
   "name": "python3"
  },
  "language_info": {
   "codemirror_mode": {
    "name": "ipython",
    "version": 3
   },
   "file_extension": ".py",
   "mimetype": "text/x-python",
   "name": "python",
   "nbconvert_exporter": "python",
   "pygments_lexer": "ipython3",
   "version": "3.12.3"
  }
 },
 "nbformat": 4,
 "nbformat_minor": 5
}
