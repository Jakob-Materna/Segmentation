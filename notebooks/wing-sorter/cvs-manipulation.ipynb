{
 "cells": [
  {
   "cell_type": "code",
   "execution_count": 2,
   "id": "bae3909c-38ae-441d-8538-699d213af1a5",
   "metadata": {},
   "outputs": [],
   "source": [
    "import os\n",
    "import pandas as pd\n",
    "\n",
    "# Path to the directory containing the CSV files\n",
    "directory = \"/mnt/c/Users/Jakob/Desktop/tmp/WingData/\"\n",
    "\n",
    "# List to hold DataFrames\n",
    "dataframes = []\n",
    "\n",
    "# Loop through each file in the directory\n",
    "for filename in os.listdir(directory):\n",
    "    if filename.endswith(\".csv\"): \n",
    "        filepath = os.path.join(directory, filename)\n",
    "        df = pd.read_csv(filepath)\n",
    "        dataframes.append(df)\n",
    "\n",
    "# Combine all DataFrames\n",
    "merged_df = pd.concat(dataframes, ignore_index=True)\n",
    "\n",
    "# Save the merged DataFrame to a new CSV file\n",
    "merged_df.to_csv(\"CompleteWingData.csv\", index=False)"
   ]
  },
  {
   "cell_type": "code",
   "execution_count": 3,
   "id": "3c141bd2-f03c-49b4-ab5e-2db9b6fb0dae",
   "metadata": {},
   "outputs": [],
   "source": [
    "# Merge complete table with marker table \n",
    "\n",
    "# Read the first table \n",
    "table1 = pd.read_csv(\"/mnt/c/Users/Jakob/Desktop/tmp/WingData/LiveBeeData.csv\")\n",
    "\n",
    "# Read the second table \n",
    "table2 = pd.read_csv(\"/mnt/c/Users/Jakob/Desktop/tmp/WingData/MarkerLengths.csv\", delimiter=\";\")\n",
    "\n",
    "# Merge the tables on the relevant columns\n",
    "merged_table = pd.merge(table1, table2, left_on=\"Filename\", right_on=\"jpg_name\", how=\"left\")\n",
    "\n",
    "# Drop the redundant 'jpg_name' column (optional)\n",
    "merged_table.drop(columns=[\"jpg_name\"], inplace=True)\n",
    "\n",
    "# Save the merged table to a new CSV file\n",
    "merged_table.to_csv(\"CompleteLiveBeeData.csv\", index=False)"
   ]
  },
  {
   "cell_type": "code",
   "execution_count": null,
   "id": "fb68b4af-f70f-4c90-a3df-ff035dab9ecf",
   "metadata": {},
   "outputs": [],
   "source": []
  }
 ],
 "metadata": {
  "kernelspec": {
   "display_name": "Python 3 (ipykernel)",
   "language": "python",
   "name": "python3"
  },
  "language_info": {
   "codemirror_mode": {
    "name": "ipython",
    "version": 3
   },
   "file_extension": ".py",
   "mimetype": "text/x-python",
   "name": "python",
   "nbconvert_exporter": "python",
   "pygments_lexer": "ipython3",
   "version": "3.12.3"
  }
 },
 "nbformat": 4,
 "nbformat_minor": 5
}
