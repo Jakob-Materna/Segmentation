{
 "cells": [
  {
   "cell_type": "code",
   "execution_count": 1,
   "id": "3c88466d-df7b-4581-9b77-6d67582fae1d",
   "metadata": {},
   "outputs": [],
   "source": [
    "import matplotlib.pyplot as plt\n",
    "import numpy as np\n",
    "import torch\n",
    "import sys\n",
    "import glob\n",
    "import os\n",
    "import cv2\n",
    "import time\n",
    "\n",
    "from PIL import Image"
   ]
  },
  {
   "cell_type": "code",
   "execution_count": 2,
   "id": "aa51c408-d369-4770-9e2c-b6a84b7d716c",
   "metadata": {},
   "outputs": [
    {
     "name": "stdout",
     "output_type": "stream",
     "text": [
      "using device: cuda\n"
     ]
    }
   ],
   "source": [
    "# select the device for computation\n",
    "if torch.cuda.is_available():\n",
    "    device = torch.device(\"cuda\")\n",
    "elif torch.backends.mps.is_available():\n",
    "    device = torch.device(\"mps\")\n",
    "else:\n",
    "    device = torch.device(\"cpu\")\n",
    "print(f\"using device: {device}\")"
   ]
  },
  {
   "cell_type": "code",
   "execution_count": 9,
   "id": "60dd380a-b35d-4b1b-a7e6-e5ed827a8edc",
   "metadata": {},
   "outputs": [],
   "source": [
    "# segment-anything-2 functions\n",
    "def show_mask(mask, ax, random_color=False, borders = True):\n",
    "    if random_color:\n",
    "        color = np.concatenate([np.random.random(3), np.array([0.6])], axis=0)\n",
    "    else:\n",
    "        color = np.array([30/255, 144/255, 255/255, 0.6])\n",
    "    h, w = mask.shape[-2:]\n",
    "    mask = mask.astype(np.uint8)\n",
    "    mask_image =  mask.reshape(h, w, 1) * color.reshape(1, 1, -1)\n",
    "    if borders:\n",
    "        import cv2\n",
    "        contours, _ = cv2.findContours(mask,cv2.RETR_EXTERNAL, cv2.CHAIN_APPROX_NONE) \n",
    "        # Try to smooth contours\n",
    "        contours = [cv2.approxPolyDP(contour, epsilon=0.01, closed=True) for contour in contours]\n",
    "        mask_image = cv2.drawContours(mask_image, contours, -1, (1, 1, 1, 0.5), thickness=2) \n",
    "    ax.imshow(mask_image)\n",
    "\n",
    "def show_points(coords, labels, ax, marker_size=100):\n",
    "    pos_points = coords[labels==1]\n",
    "    neg_points = coords[labels==0]\n",
    "    ax.scatter(pos_points[:, 0], pos_points[:, 1], color='green', marker='.', s=marker_size, edgecolor='black', linewidth=0.5)\n",
    "    ax.scatter(neg_points[:, 0], neg_points[:, 1], color='red', marker='.', s=marker_size, edgecolor='black', linewidth=0.5)   \n",
    "\n",
    "def show_box(box, ax):\n",
    "    x0, y0 = box[0], box[1]\n",
    "    w, h = box[2] - box[0], box[3] - box[1]\n",
    "    ax.add_patch(plt.Rectangle((x0, y0), w, h, edgecolor='green', facecolor=(0, 0, 0, 0), lw=2))    \n",
    "\n",
    "def show_masks(image, masks, scores, point_coords=None, box_coords=None, input_labels=None, borders=True):\n",
    "    for i, (mask, score) in enumerate(zip(masks, scores)):\n",
    "        plt.figure(figsize=(10, 10))\n",
    "        plt.imshow(image)\n",
    "        show_mask(mask, plt.gca(), borders=borders)\n",
    "        if point_coords is not None:\n",
    "            assert input_labels is not None\n",
    "            show_points(point_coords, input_labels, plt.gca())\n",
    "        if box_coords is not None:\n",
    "            # boxes\n",
    "            show_box(box_coords, plt.gca())\n",
    "        if len(scores) > 1:\n",
    "            plt.title(f\"Mask {i+1}, Score: {score:.3f}\", fontsize=18)\n",
    "        plt.axis('off')\n",
    "        plt.show()"
   ]
  },
  {
   "cell_type": "code",
   "execution_count": 4,
   "id": "b1dbdcbb-f963-4959-8f21-bf15ad3c08d1",
   "metadata": {},
   "outputs": [
    {
     "name": "stderr",
     "output_type": "stream",
     "text": [
      "/home/wsl/bin/segment-anything-2/sam2/modeling/sam/transformer.py:23: UserWarning: Flash Attention is disabled as it requires a GPU with Ampere (8.0) CUDA capability.\n",
      "  OLD_GPU, USE_FLASH_ATTN, MATH_KERNEL_ON = get_sdpa_settings()\n"
     ]
    }
   ],
   "source": [
    "from sam2.build_sam import build_sam2\n",
    "from sam2.sam2_image_predictor import SAM2ImagePredictor\n",
    "\n",
    "sam2_checkpoint = \"/home/wsl/bin/segment-anything-2/checkpoints/sam2_hiera_large.pt\"\n",
    "model_cfg = \"sam2_hiera_l.yaml\"\n",
    "\n",
    "sam2_model = build_sam2(model_cfg, sam2_checkpoint, device=device)\n",
    "\n",
    "predictor = SAM2ImagePredictor(sam2_model)"
   ]
  },
  {
   "cell_type": "code",
   "execution_count": 2,
   "id": "bc47ebde-1b05-4792-90d1-e6842ed58553",
   "metadata": {},
   "outputs": [
    {
     "ename": "NameError",
     "evalue": "name 'os' is not defined",
     "output_type": "error",
     "traceback": [
      "\u001b[0;31m---------------------------------------------------------------------------\u001b[0m",
      "\u001b[0;31mNameError\u001b[0m                                 Traceback (most recent call last)",
      "Cell \u001b[0;32mIn[2], line 16\u001b[0m\n\u001b[1;32m     13\u001b[0m output_dir \u001b[38;5;241m=\u001b[39m \u001b[38;5;124m\"\u001b[39m\u001b[38;5;124m/mnt/c/Projects/Master/Data/WingScansSegmented/\u001b[39m\u001b[38;5;124m\"\u001b[39m\n\u001b[1;32m     15\u001b[0m \u001b[38;5;66;03m# Ensure the input directory exists\u001b[39;00m\n\u001b[0;32m---> 16\u001b[0m \u001b[38;5;28;01mif\u001b[39;00m \u001b[38;5;129;01mnot\u001b[39;00m \u001b[43mos\u001b[49m\u001b[38;5;241m.\u001b[39mpath\u001b[38;5;241m.\u001b[39mexists(input_dir):\n\u001b[1;32m     17\u001b[0m     \u001b[38;5;28;01mraise\u001b[39;00m \u001b[38;5;167;01mFileNotFoundError\u001b[39;00m(\u001b[38;5;124mf\u001b[39m\u001b[38;5;124m\"\u001b[39m\u001b[38;5;124mInput directory \u001b[39m\u001b[38;5;124m'\u001b[39m\u001b[38;5;132;01m{\u001b[39;00minput_dir\u001b[38;5;132;01m}\u001b[39;00m\u001b[38;5;124m'\u001b[39m\u001b[38;5;124m was not found.\u001b[39m\u001b[38;5;124m\"\u001b[39m)\n\u001b[1;32m     19\u001b[0m \u001b[38;5;66;03m# Create the output directory\u001b[39;00m\n",
      "\u001b[0;31mNameError\u001b[0m: name 'os' is not defined"
     ]
    }
   ],
   "source": [
    "segments = {\n",
    "    \"marginal cell\" : [[530, 30]],\n",
    "    \"1st submarginal cell\": [[450, 45]],\n",
    "    \"2nd submarginal cell\": [[500, 75]],\n",
    "    \"3rd submarginal cell\": [[575, 75]],\n",
    "    \"2nd medial cell\": [[500, 125]],\n",
    "    \"Forewing lobe\": [[550, 200], [650, 100]]\n",
    "}\n",
    "\n",
    "all_points = [coord for coords in segments.values() for coord in coords]\n",
    "\n",
    "input_dir = \"/mnt/c/Projects/Master/Data/WingScansUniform/\"\n",
    "output_dir = \"/mnt/c/Projects/Master/Data/WingScansSegmented/\"\n",
    "\n",
    "# Ensure the input directory exists\n",
    "if not os.path.exists(input_dir):\n",
    "    raise FileNotFoundError(f\"Input directory '{input_dir}' was not found.\")\n",
    "\n",
    "# Create the output directory\n",
    "os.makedirs(output_dir, exist_ok=True)\n",
    "\n",
    "# List all directories in the specified directory\n",
    "all_directories = [entry for entry in os.listdir(input_dir)]\n",
    "\n",
    "for dirname in all_directories:\n",
    "    if not \"Hive\" in dirname:\n",
    "        print(f\"Skipping directory: {dirname}\")\n",
    "        continue\n",
    "        \n",
    "    print(f\"Processing directory: {dirname}\")\n",
    "    input_subdir = input_dir + \"/\" + dirname + \"/\"\n",
    "    output_subdir = output_dir + \"/\" + dirname + \"/\"\n",
    "    \n",
    "    # Create the output directory\n",
    "    os.makedirs(output_subdir, exist_ok=True)\n",
    "\n",
    "    # Find jpg files\n",
    "    jpg_files = [file for file in os.listdir(input_subdir) if file.endswith('.jpg')]\n",
    "    for jpg_file in jpg_files:\n",
    "        input_file = input_subdir + jpg_file\n",
    "        output_file = output_subdir + jpg_file\n",
    "        wing = Image.open(input_file)\n",
    "        wing = np.array(wing.convert(\"RGB\"))\n",
    "        \n",
    "        index_offset = 0\n",
    "        for key, coords in segments.items():\n",
    "            input_points = np.array(all_points)\n",
    "    \n",
    "            input_labels = np.zeros(len(all_points), dtype=int)\n",
    "            for i in range(len(coords)):\n",
    "                input_labels[index_offset + i] = 1\n",
    "            index_offset += len(coords)\n",
    "            \n",
    "            predictor.set_image(wing)\n",
    "\n",
    "            masks, scores, _ = predictor.predict(\n",
    "            point_coords=input_points,\n",
    "            point_labels=input_labels,\n",
    "            multimask_output=False,\n",
    "            )\n",
    "            \n",
    "            show_masks(wing, masks, scores, point_coords=input_points, input_labels=input_labels, )"
   ]
  },
  {
   "cell_type": "code",
   "execution_count": null,
   "id": "23f4db1c-c777-45d6-91a0-050baf57b521",
   "metadata": {},
   "outputs": [],
   "source": []
  }
 ],
 "metadata": {
  "kernelspec": {
   "display_name": "Python 3 (ipykernel)",
   "language": "python",
   "name": "python3"
  },
  "language_info": {
   "codemirror_mode": {
    "name": "ipython",
    "version": 3
   },
   "file_extension": ".py",
   "mimetype": "text/x-python",
   "name": "python",
   "nbconvert_exporter": "python",
   "pygments_lexer": "ipython3",
   "version": "3.12.3"
  }
 },
 "nbformat": 4,
 "nbformat_minor": 5
}
