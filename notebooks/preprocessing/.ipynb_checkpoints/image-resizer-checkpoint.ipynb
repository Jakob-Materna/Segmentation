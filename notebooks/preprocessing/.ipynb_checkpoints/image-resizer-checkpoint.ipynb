{
 "cells": [
  {
   "cell_type": "code",
   "execution_count": 1,
   "id": "66687557-80b7-423d-822e-d6f86af18dd2",
   "metadata": {},
   "outputs": [],
   "source": [
    "import os\n",
    "\n",
    "from PIL import Image"
   ]
  },
  {
   "cell_type": "code",
   "execution_count": 11,
   "id": "2f683bea-9597-4e7b-a220-e0f213666136",
   "metadata": {},
   "outputs": [],
   "source": [
    "def get_max_dimensions(image_dir):\n",
    "    max_width = 0\n",
    "    max_height = 0\n",
    "    \n",
    "    # Find max dimensions\n",
    "    for file_name in os.listdir(image_dir):\n",
    "        if file_name.endswith(('.png', '.jpg', '.jpeg')):\n",
    "            image = Image.open(os.path.join(image_dir, file_name))\n",
    "            width, height = image.size\n",
    "            max_width = max(max_width, width)\n",
    "            max_height = max(max_height, height)\n",
    "    \n",
    "    return max_width, max_height\n",
    "\n",
    "\n",
    "def images_to_uniform_size(image_dir, output_dir, max_width, max_height):\n",
    "    if not os.path.exists(output_dir):\n",
    "        os.makedirs(output_dir)\n",
    "    \n",
    "    for file_name in os.listdir(image_dir):\n",
    "        if file_name.endswith(('.png', '.jpg', '.jpeg')):\n",
    "            img = Image.open(os.path.join(image_dir, file_name))\n",
    "            width, height = img.size\n",
    "\n",
    "            # Create a new image with new size \n",
    "            new_img = Image.new('RGB', (max_width, max_height), (255, 255, 255))\n",
    "\n",
    "            # Paste the original image at the top left corner\n",
    "            new_img.paste(img, (0, 0))  \n",
    "            \n",
    "            # Save the new image to the output directory\n",
    "            new_img.save(os.path.join(output_dir, file_name))"
   ]
  },
  {
   "cell_type": "code",
   "execution_count": 12,
   "id": "b7d163de-81e0-4055-9cfe-2731de41ccd0",
   "metadata": {},
   "outputs": [
    {
     "name": "stdout",
     "output_type": "stream",
     "text": [
      "Processing directory: Hive02_Sheet_02\n",
      "Max Width: 894, Max Height: 296\n"
     ]
    }
   ],
   "source": [
    "# Find max width and height\n",
    "input_dir = \"/mnt/c/Projects/Master/Data/WingScanWings/\"\n",
    "\n",
    "# Ensure the input directory exists\n",
    "if not os.path.exists(input_dir):\n",
    "    raise FileNotFoundError(f\"Input directory '{input_dir}' was not found.\")\n",
    "\n",
    "max_width = 0\n",
    "max_height = 0\n",
    "\n",
    "# List all directories in the specified directory\n",
    "all_directories = [entry for entry in os.listdir(input_dir)]\n",
    "\n",
    "for dir_name in all_directories:\n",
    "    if not \"Hive\" in dir_name:\n",
    "        print(f\"Skipping directory: {dir_name}\")\n",
    "        continue\n",
    "\n",
    "    # ONLY PROCESSING ONE DIRECTORY AT THE MOMENT!\n",
    "    if not \"Hive02_Sheet_02\" in dir_name:\n",
    "        continue\n",
    "        \n",
    "    print(f\"Processing directory: {dir_name}\")\n",
    "    input_subdir = input_dir + \"/\" + dir_name + \"/\"\n",
    "    width, height = get_max_dimensions(input_subdir)\n",
    "\n",
    "    max_width = max(max_width, width)\n",
    "    max_height = max(max_height, height)\n",
    "\n",
    "print(f\"Max Width: {max_width}, Max Height: {max_height}\")"
   ]
  },
  {
   "cell_type": "code",
   "execution_count": 14,
   "id": "79bf9705-c1ce-412d-94ad-4015dff75b41",
   "metadata": {},
   "outputs": [
    {
     "name": "stdout",
     "output_type": "stream",
     "text": [
      "Processing directory: Hive02_Sheet_02_Test\n"
     ]
    }
   ],
   "source": [
    "input_dir = \"/mnt/c/Projects/Master/Data/WingScanWings/\"\n",
    "output_dir = \"/mnt/c/Projects/Master/Data/WingScansUniform/\"\n",
    "\n",
    "new_width = 900\n",
    "new_height = 300\n",
    "\n",
    "# Ensure the input directory exists\n",
    "if not os.path.exists(input_dir):\n",
    "    raise FileNotFoundError(f\"Input directory '{input_dir}' was not found.\")\n",
    "    \n",
    "# Create the output directory\n",
    "os.makedirs(output_dir, exist_ok=True)\n",
    "\n",
    "# List all directories in the specified directory\n",
    "all_directories = [entry for entry in os.listdir(input_dir)]\n",
    "\n",
    "for dir_name in all_directories:\n",
    "    if not \"Hive\" in dir_name:\n",
    "        print(f\"Skipping directory: {dir_name}\")\n",
    "        continue\n",
    "\n",
    "    # ONLY PROCESSING ONE DIRECTORY AT THE MOMENT!\n",
    "    if not \"Hive02_Sheet_02\" in dir_name:\n",
    "        continue\n",
    "        \n",
    "    print(f\"Processing directory: {dir_name}\")\n",
    "    input_subdir = input_dir + \"/\" + dir_name + \"/\"\n",
    "    output_subdir = output_dir + \"/\" + dir_name + \"/\"\n",
    "    \n",
    "    # Create the output directory\n",
    "    os.makedirs(output_subdir, exist_ok=True)\n",
    "\n",
    "    images_to_uniform_size(input_subdir, output_subdir, new_width, new_height)"
   ]
  },
  {
   "cell_type": "code",
   "execution_count": null,
   "id": "29988cd3-01e3-4ecc-8858-c30f70e3e716",
   "metadata": {},
   "outputs": [],
   "source": []
  }
 ],
 "metadata": {
  "kernelspec": {
   "display_name": "Python 3 (ipykernel)",
   "language": "python",
   "name": "python3"
  },
  "language_info": {
   "codemirror_mode": {
    "name": "ipython",
    "version": 3
   },
   "file_extension": ".py",
   "mimetype": "text/x-python",
   "name": "python",
   "nbconvert_exporter": "python",
   "pygments_lexer": "ipython3",
   "version": "3.12.3"
  }
 },
 "nbformat": 4,
 "nbformat_minor": 5
}
